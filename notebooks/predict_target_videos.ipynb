{
 "cells": [
  {
   "cell_type": "code",
   "execution_count": 1,
   "metadata": {
    "collapsed": true
   },
   "outputs": [],
   "source": [
    "from multiprocessing import Pool\n",
    "\n",
    "import streamlit as st\n",
    "import cv2, os, uuid, shutil\n",
    "import numpy as np\n",
    "import matplotlib.pyplot as plt\n",
    "\n",
    "import sys\n",
    "\n",
    "\n",
    "from alrosademo.utils import getframedtonohanda\n",
    "\n",
    "from alrosademo.KeyFilter import filter_data, work_with_obs\n",
    "\n",
    "from alrosademo.ImageProcessor import ImageProcessor\n",
    "from alrosademo.LandmarkDetector import LandmarkDetector\n",
    "from alrosademo.SSDDetector import SSDDetector, SSDBox\n",
    "\n",
    "from alrosademo.VideoProcessor import VideoProcessor\n",
    "from alrosademo.ImageProcessor import ImageProcessor"
   ]
  },
  {
   "cell_type": "code",
   "execution_count": 2,
   "outputs": [],
   "source": [
    "imageProcessor = ImageProcessor()\n",
    "ssd = SSDDetector('../models/palm_detection_builtin.tflite')\n",
    "landmark = LandmarkDetector('../models/hand_landmark.tflite')"
   ],
   "metadata": {
    "collapsed": false,
    "pycharm": {
     "name": "#%%\n"
    }
   }
  },
  {
   "cell_type": "code",
   "execution_count": 3,
   "outputs": [],
   "source": [
    "path1= 'D:/linux_share/Alrosa/selected/source/'\n",
    "\n",
    "vidcap = cv2.VideoCapture(path1+'ind_2_GH060009.MP4')\n",
    "success, image = vidcap.read()\n",
    "count = 0\n",
    "frames = []\n",
    "while success:\n",
    "    image = cv2.cvtColor(image, cv2.COLOR_BGR2RGB)\n",
    "    frames.append(image)\n",
    "    success, image = vidcap.read()\n",
    "    count += 1"
   ],
   "metadata": {
    "collapsed": false,
    "pycharm": {
     "name": "#%%\n"
    }
   }
  },
  {
   "cell_type": "code",
   "execution_count": null,
   "outputs": [],
   "source": [
    "\n",
    "def funtopar(data_in):\n",
    "    frame_index, image = data_in\n",
    "    original_image, padded_image, norm_image, pad = imageProcessor.preprocess_image(image)\n",
    "    stored_box = []\n",
    "    stored_keys = []\n",
    "    stored_handness = []\n",
    "    stored_handflag = []\n",
    "    for box in ssd.predict(norm_image):\n",
    "        stored_box.append(box)\n",
    "        ssdbox = SSDBox(box, pad, padded_image.shape)\n",
    "        k = ssdbox.det\n",
    "        angle = ssdbox.calc_angle()\n",
    "\n",
    "        rotated_image = imageProcessor.rotate_image(\n",
    "            original_image,\n",
    "            angle,\n",
    "            k['center'].copy())\n",
    "\n",
    "        keys, handness, handflag = landmark.predict(rotated_image, ssdbox)\n",
    "        stored_keys.append(keys)\n",
    "        stored_handness.append(handness)\n",
    "        stored_handflag.append(handflag)\n",
    "    return {\n",
    "        'ind': frame_index,\n",
    "        'bbox': stored_box,\n",
    "        'keys': stored_keys,\n",
    "        'handness': stored_handness,\n",
    "        'handflag': stored_handflag\n",
    "    }\n",
    "\n",
    "with Pool(8) as p:\n",
    "    answer = p.map(funtopar,\n",
    "                   [[i,frame] for i,frame in enumerate(frames)]\n",
    "                   )"
   ],
   "metadata": {
    "collapsed": false,
    "pycharm": {
     "name": "#%%\n",
     "is_executing": true
    }
   }
  },
  {
   "cell_type": "code",
   "execution_count": null,
   "outputs": [],
   "source": [],
   "metadata": {
    "collapsed": false,
    "pycharm": {
     "name": "#%%\n"
    }
   }
  }
 ],
 "metadata": {
  "kernelspec": {
   "display_name": "Python 3",
   "language": "python",
   "name": "python3"
  },
  "language_info": {
   "codemirror_mode": {
    "name": "ipython",
    "version": 2
   },
   "file_extension": ".py",
   "mimetype": "text/x-python",
   "name": "python",
   "nbconvert_exporter": "python",
   "pygments_lexer": "ipython2",
   "version": "2.7.6"
  }
 },
 "nbformat": 4,
 "nbformat_minor": 0
}
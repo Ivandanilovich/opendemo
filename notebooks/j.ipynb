{
 "cells": [
  {
   "cell_type": "code",
   "execution_count": 3,
   "metadata": {
    "collapsed": true
   },
   "outputs": [],
   "source": [
    "import os\n",
    "import cv2\n",
    "files = [f for f in os.listdir('../dataset/vis/{}'.format('8e818262913c4310b7f7d294e8ccd1cd'))]\n",
    "files = sorted(files, key=lambda x: int(x[:-4]))"
   ]
  },
  {
   "cell_type": "code",
   "execution_count": 4,
   "outputs": [
    {
     "data": {
      "text/plain": "['0.jpg',\n '1.jpg',\n '2.jpg',\n '3.jpg',\n '4.jpg',\n '5.jpg',\n '6.jpg',\n '7.jpg',\n '8.jpg',\n '9.jpg',\n '10.jpg',\n '11.jpg',\n '12.jpg',\n '13.jpg',\n '14.jpg',\n '15.jpg',\n '16.jpg',\n '17.jpg',\n '18.jpg',\n '19.jpg',\n '20.jpg',\n '21.jpg',\n '22.jpg',\n '23.jpg',\n '24.jpg',\n '25.jpg',\n '26.jpg',\n '27.jpg',\n '28.jpg',\n '29.jpg',\n '30.jpg',\n '31.jpg',\n '32.jpg',\n '33.jpg',\n '34.jpg',\n '35.jpg',\n '36.jpg',\n '37.jpg',\n '38.jpg',\n '39.jpg',\n '40.jpg',\n '41.jpg',\n '42.jpg',\n '43.jpg',\n '44.jpg',\n '45.jpg',\n '46.jpg',\n '47.jpg',\n '48.jpg',\n '49.jpg',\n '50.jpg',\n '51.jpg',\n '52.jpg',\n '53.jpg',\n '54.jpg',\n '55.jpg',\n '56.jpg']"
     },
     "execution_count": 4,
     "metadata": {},
     "output_type": "execute_result"
    }
   ],
   "source": [
    "files"
   ],
   "metadata": {
    "collapsed": false,
    "pycharm": {
     "name": "#%%\n"
    }
   }
  },
  {
   "cell_type": "code",
   "execution_count": 5,
   "outputs": [
    {
     "name": "stdout",
     "output_type": "stream",
     "text": [
      "filename ../dataset/vis/8e818262913c4310b7f7d294e8ccd1cd/0.jpg\n",
      "filename ../dataset/vis/8e818262913c4310b7f7d294e8ccd1cd/1.jpg\n",
      "filename ../dataset/vis/8e818262913c4310b7f7d294e8ccd1cd/2.jpg\n",
      "filename ../dataset/vis/8e818262913c4310b7f7d294e8ccd1cd/3.jpg\n",
      "filename ../dataset/vis/8e818262913c4310b7f7d294e8ccd1cd/4.jpg\n",
      "filename ../dataset/vis/8e818262913c4310b7f7d294e8ccd1cd/5.jpg\n",
      "filename ../dataset/vis/8e818262913c4310b7f7d294e8ccd1cd/6.jpg\n",
      "filename ../dataset/vis/8e818262913c4310b7f7d294e8ccd1cd/7.jpg\n",
      "filename ../dataset/vis/8e818262913c4310b7f7d294e8ccd1cd/8.jpg\n",
      "filename ../dataset/vis/8e818262913c4310b7f7d294e8ccd1cd/9.jpg\n",
      "filename ../dataset/vis/8e818262913c4310b7f7d294e8ccd1cd/10.jpg\n",
      "filename ../dataset/vis/8e818262913c4310b7f7d294e8ccd1cd/11.jpg\n",
      "filename ../dataset/vis/8e818262913c4310b7f7d294e8ccd1cd/12.jpg\n",
      "filename ../dataset/vis/8e818262913c4310b7f7d294e8ccd1cd/13.jpg\n",
      "filename ../dataset/vis/8e818262913c4310b7f7d294e8ccd1cd/14.jpg\n",
      "filename ../dataset/vis/8e818262913c4310b7f7d294e8ccd1cd/15.jpg\n",
      "filename ../dataset/vis/8e818262913c4310b7f7d294e8ccd1cd/16.jpg\n",
      "filename ../dataset/vis/8e818262913c4310b7f7d294e8ccd1cd/17.jpg\n",
      "filename ../dataset/vis/8e818262913c4310b7f7d294e8ccd1cd/18.jpg\n",
      "filename ../dataset/vis/8e818262913c4310b7f7d294e8ccd1cd/19.jpg\n",
      "filename ../dataset/vis/8e818262913c4310b7f7d294e8ccd1cd/20.jpg\n",
      "filename ../dataset/vis/8e818262913c4310b7f7d294e8ccd1cd/21.jpg\n",
      "filename ../dataset/vis/8e818262913c4310b7f7d294e8ccd1cd/22.jpg\n",
      "filename ../dataset/vis/8e818262913c4310b7f7d294e8ccd1cd/23.jpg\n",
      "filename ../dataset/vis/8e818262913c4310b7f7d294e8ccd1cd/24.jpg\n",
      "filename ../dataset/vis/8e818262913c4310b7f7d294e8ccd1cd/25.jpg\n",
      "filename ../dataset/vis/8e818262913c4310b7f7d294e8ccd1cd/26.jpg\n",
      "filename ../dataset/vis/8e818262913c4310b7f7d294e8ccd1cd/27.jpg\n",
      "filename ../dataset/vis/8e818262913c4310b7f7d294e8ccd1cd/28.jpg\n",
      "filename ../dataset/vis/8e818262913c4310b7f7d294e8ccd1cd/29.jpg\n",
      "filename ../dataset/vis/8e818262913c4310b7f7d294e8ccd1cd/30.jpg\n",
      "filename ../dataset/vis/8e818262913c4310b7f7d294e8ccd1cd/31.jpg\n",
      "filename ../dataset/vis/8e818262913c4310b7f7d294e8ccd1cd/32.jpg\n",
      "filename ../dataset/vis/8e818262913c4310b7f7d294e8ccd1cd/33.jpg\n",
      "filename ../dataset/vis/8e818262913c4310b7f7d294e8ccd1cd/34.jpg\n",
      "filename ../dataset/vis/8e818262913c4310b7f7d294e8ccd1cd/35.jpg\n",
      "filename ../dataset/vis/8e818262913c4310b7f7d294e8ccd1cd/36.jpg\n",
      "filename ../dataset/vis/8e818262913c4310b7f7d294e8ccd1cd/37.jpg\n",
      "filename ../dataset/vis/8e818262913c4310b7f7d294e8ccd1cd/38.jpg\n",
      "filename ../dataset/vis/8e818262913c4310b7f7d294e8ccd1cd/39.jpg\n",
      "filename ../dataset/vis/8e818262913c4310b7f7d294e8ccd1cd/40.jpg\n",
      "filename ../dataset/vis/8e818262913c4310b7f7d294e8ccd1cd/41.jpg\n",
      "filename ../dataset/vis/8e818262913c4310b7f7d294e8ccd1cd/42.jpg\n",
      "filename ../dataset/vis/8e818262913c4310b7f7d294e8ccd1cd/43.jpg\n",
      "filename ../dataset/vis/8e818262913c4310b7f7d294e8ccd1cd/44.jpg\n",
      "filename ../dataset/vis/8e818262913c4310b7f7d294e8ccd1cd/45.jpg\n",
      "filename ../dataset/vis/8e818262913c4310b7f7d294e8ccd1cd/46.jpg\n",
      "filename ../dataset/vis/8e818262913c4310b7f7d294e8ccd1cd/47.jpg\n",
      "filename ../dataset/vis/8e818262913c4310b7f7d294e8ccd1cd/48.jpg\n",
      "filename ../dataset/vis/8e818262913c4310b7f7d294e8ccd1cd/49.jpg\n",
      "filename ../dataset/vis/8e818262913c4310b7f7d294e8ccd1cd/50.jpg\n",
      "filename ../dataset/vis/8e818262913c4310b7f7d294e8ccd1cd/51.jpg\n",
      "filename ../dataset/vis/8e818262913c4310b7f7d294e8ccd1cd/52.jpg\n",
      "filename ../dataset/vis/8e818262913c4310b7f7d294e8ccd1cd/53.jpg\n",
      "filename ../dataset/vis/8e818262913c4310b7f7d294e8ccd1cd/54.jpg\n",
      "filename ../dataset/vis/8e818262913c4310b7f7d294e8ccd1cd/55.jpg\n",
      "filename ../dataset/vis/8e818262913c4310b7f7d294e8ccd1cd/56.jpg\n"
     ]
    }
   ],
   "source": [
    "frame_array=[]\n",
    "for i in range(len(files)):\n",
    "    filename = '../dataset/vis/{}/'.format('8e818262913c4310b7f7d294e8ccd1cd') + files[i]\n",
    "    print('filename', filename)\n",
    "    img = cv2.imread(filename)\n",
    "    height, width, layers = img.shape\n",
    "    size = (width, height)\n",
    "    frame_array.append(img)"
   ],
   "metadata": {
    "collapsed": false,
    "pycharm": {
     "name": "#%%\n"
    }
   }
  },
  {
   "cell_type": "code",
   "execution_count": 8,
   "outputs": [
    {
     "name": "stdout",
     "output_type": "stream",
     "text": [
      "here 0\n",
      "here 1\n",
      "here 2\n",
      "here 3\n",
      "here 4\n",
      "here 5\n",
      "here 6\n",
      "here 7\n",
      "here 8\n",
      "here 9\n",
      "here 10\n",
      "here 11\n",
      "here 12\n",
      "here 13\n",
      "here 14\n",
      "here 15\n",
      "here 16\n",
      "here 17\n",
      "here 18\n",
      "here 19\n",
      "here 20\n",
      "here 21\n",
      "here 22\n",
      "here 23\n",
      "here 24\n",
      "here 25\n",
      "here 26\n",
      "here 27\n",
      "here 28\n",
      "here 29\n",
      "here 30\n",
      "here 31\n",
      "here 32\n",
      "here 33\n",
      "here 34\n",
      "here 35\n",
      "here 36\n",
      "here 37\n",
      "here 38\n",
      "here 39\n",
      "here 40\n",
      "here 41\n",
      "here 42\n",
      "here 43\n",
      "here 44\n",
      "here 45\n",
      "here 46\n",
      "here 47\n",
      "here 48\n",
      "here 49\n",
      "here 50\n",
      "here 51\n",
      "here 52\n",
      "here 53\n",
      "here 54\n",
      "here 55\n",
      "here 56\n"
     ]
    }
   ],
   "source": [
    "out = cv2.VideoWriter('.avi', cv2.VideoWriter_fourcc(*'DIVX'), 28, size)\n",
    "for i in range(len(frame_array)):\n",
    "    print('here', i)\n",
    "    out.write(frame_array[i])\n",
    "out.release()"
   ],
   "metadata": {
    "collapsed": false,
    "pycharm": {
     "name": "#%%\n"
    }
   }
  },
  {
   "cell_type": "code",
   "execution_count": 7,
   "outputs": [],
   "source": [
    "out.release()\n"
   ],
   "metadata": {
    "collapsed": false,
    "pycharm": {
     "name": "#%%\n"
    }
   }
  },
  {
   "cell_type": "code",
   "execution_count": null,
   "outputs": [],
   "source": [],
   "metadata": {
    "collapsed": false,
    "pycharm": {
     "name": "#%%\n"
    }
   }
  }
 ],
 "metadata": {
  "kernelspec": {
   "display_name": "Python 3",
   "language": "python",
   "name": "python3"
  },
  "language_info": {
   "codemirror_mode": {
    "name": "ipython",
    "version": 2
   },
   "file_extension": ".py",
   "mimetype": "text/x-python",
   "name": "python",
   "nbconvert_exporter": "python",
   "pygments_lexer": "ipython2",
   "version": "2.7.6"
  }
 },
 "nbformat": 4,
 "nbformat_minor": 0
}
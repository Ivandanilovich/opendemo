{
 "cells": [
  {
   "cell_type": "code",
   "execution_count": null,
   "metadata": {
    "collapsed": true,
    "pycharm": {
     "is_executing": true
    }
   },
   "outputs": [],
   "source": [
    "import os\n",
    "from multiprocessing import Pool\n",
    "from alrosademo.ImageProcessor import ImageProcessor\n",
    "from alrosademo.LandmarkDetector import LandmarkDetector\n",
    "from alrosademo.SSDDetector import SSDDetector, SSDBox\n",
    "from alrosademo.VideoProcessor import VideoProcessor"
   ]
  },
  {
   "cell_type": "code",
   "execution_count": null,
   "outputs": [],
   "source": [
    "frames = VideoProcessor.split_videoget_frames('f781d7cc10fc41a7a24d5dcfb38e1d07')"
   ],
   "metadata": {
    "collapsed": false,
    "pycharm": {
     "name": "#%%\n"
    }
   }
  },
  {
   "cell_type": "code",
   "execution_count": 7,
   "outputs": [
    {
     "data": {
      "text/plain": "60"
     },
     "execution_count": 7,
     "metadata": {},
     "output_type": "execute_result"
    }
   ],
   "source": [
    "len(frames)\n"
   ],
   "metadata": {
    "collapsed": false,
    "pycharm": {
     "name": "#%%\n"
    }
   }
  },
  {
   "cell_type": "code",
   "execution_count": 8,
   "outputs": [
    {
     "name": "stdout",
     "output_type": "stream",
     "text": [
      "Wall time: 1min 2s\n"
     ]
    }
   ],
   "source": [
    "%%time\n",
    "\n",
    "imageProcessor = ImageProcessor()\n",
    "ssd = SSDDetector('../models/palm_detection_builtin.tflite')\n",
    "landmark = LandmarkDetector('../models/hand_landmark.tflite')\n",
    "\n",
    "\n",
    "for image in frames:\n",
    "    original_image, padded_image, norm_image, pad = imageProcessor.preprocess_image(image)\n",
    "    stored_box = []\n",
    "    stored_keys = []\n",
    "    stored_handness = []\n",
    "    stored_handflag = []\n",
    "    for box in ssd.predict(norm_image):\n",
    "        stored_box.append(box)\n",
    "        ssdbox = SSDBox(box, pad, padded_image.shape)\n",
    "        k = ssdbox.det\n",
    "        angle = ssdbox.calc_angle()\n",
    "\n",
    "        rotated_image = imageProcessor.rotate_image(\n",
    "            original_image,\n",
    "            angle,\n",
    "            k['center'].copy())\n",
    "\n",
    "        keys, handness, handflag = landmark.predict(rotated_image, ssdbox)\n",
    "        stored_keys.append(keys)\n",
    "        stored_handness.append(handness)\n",
    "        stored_handflag.append(handflag)"
   ],
   "metadata": {
    "collapsed": false,
    "pycharm": {
     "name": "#%%\n"
    }
   }
  },
  {
   "cell_type": "code",
   "execution_count": null,
   "outputs": [],
   "source": [
    "%%time\n",
    "\n",
    "def funtopar(image):\n",
    "\n",
    "    original_image, padded_image, norm_image, pad = imageProcessor.preprocess_image(image)\n",
    "    stored_box = []\n",
    "    stored_keys = []\n",
    "    stored_handness = []\n",
    "    stored_handflag = []\n",
    "    for box in ssd.predict(norm_image):\n",
    "        stored_box.append(box)\n",
    "        ssdbox = SSDBox(box, pad, padded_image.shape)\n",
    "        k = ssdbox.det\n",
    "        angle = ssdbox.calc_angle()\n",
    "\n",
    "        rotated_image = imageProcessor.rotate_image(\n",
    "            original_image,\n",
    "            angle,\n",
    "            k['center'].copy())\n",
    "\n",
    "        keys, handness, handflag = landmark.predict(rotated_image, ssdbox)\n",
    "        stored_keys.append(keys)\n",
    "        stored_handness.append(handness)\n",
    "        stored_handflag.append(handflag)\n",
    "    return {\n",
    "        'bbox': stored_box, 'keys': stored_keys, 'handness': stored_handness,\n",
    "        'handflag': stored_handflag\n",
    "    }\n",
    "\n",
    "with Pool(7) as p:\n",
    "    answer = p.map(funtopar, frames)"
   ],
   "metadata": {
    "collapsed": false,
    "pycharm": {
     "name": "#%%\n",
     "is_executing": true
    }
   }
  },
  {
   "cell_type": "code",
   "execution_count": null,
   "outputs": [],
   "source": [
    "\n",
    "import multiprocessing as mp"
   ],
   "metadata": {
    "collapsed": false,
    "pycharm": {
     "name": "#%%\n",
     "is_executing": true
    }
   }
  },
  {
   "cell_type": "code",
   "execution_count": null,
   "outputs": [],
   "source": [],
   "metadata": {
    "collapsed": false,
    "pycharm": {
     "name": "#%%\n"
    }
   }
  }
 ],
 "metadata": {
  "kernelspec": {
   "display_name": "Python 3",
   "language": "python",
   "name": "python3"
  },
  "language_info": {
   "codemirror_mode": {
    "name": "ipython",
    "version": 2
   },
   "file_extension": ".py",
   "mimetype": "text/x-python",
   "name": "python",
   "nbconvert_exporter": "python",
   "pygments_lexer": "ipython2",
   "version": "2.7.6"
  }
 },
 "nbformat": 4,
 "nbformat_minor": 0
}
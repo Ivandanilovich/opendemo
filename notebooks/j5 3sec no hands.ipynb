{
 "cells": [
  {
   "cell_type": "code",
   "execution_count": 1,
   "metadata": {
    "collapsed": true
   },
   "outputs": [],
   "source": [
    "\n",
    "import pickle\n",
    "from alrosademo.KeyFilter import filter_data, work_with_obs_indexes\n",
    "data = pickle.load(open('../cache/04194f756c004cb3be04c75d6c79f5ac.pickle', 'rb'))"
   ]
  },
  {
   "cell_type": "code",
   "execution_count": 2,
   "outputs": [
    {
     "name": "stdout",
     "output_type": "stream",
     "text": [
      "image_size nohere\n"
     ]
    }
   ],
   "source": [
    "obs = filter_data(data)"
   ],
   "metadata": {
    "collapsed": false,
    "pycharm": {
     "name": "#%%\n"
    }
   }
  },
  {
   "cell_type": "code",
   "execution_count": 3,
   "outputs": [
    {
     "data": {
      "text/plain": "1"
     },
     "execution_count": 3,
     "metadata": {},
     "output_type": "execute_result"
    }
   ],
   "source": [
    "\n",
    "\n",
    "len(obs[0])"
   ],
   "metadata": {
    "collapsed": false,
    "pycharm": {
     "name": "#%%\n"
    }
   }
  },
  {
   "cell_type": "code",
   "execution_count": 15,
   "outputs": [],
   "source": [],
   "metadata": {
    "collapsed": false,
    "pycharm": {
     "name": "#%%\n"
    }
   }
  },
  {
   "cell_type": "code",
   "execution_count": 16,
   "outputs": [
    {
     "name": "stdout",
     "output_type": "stream",
     "text": [
      "1148 957\n"
     ]
    },
    {
     "data": {
      "text/plain": "[1041,\n 1042,\n 1043,\n 1044,\n 1045,\n 1046,\n 1047,\n 1048,\n 1049,\n 1050,\n 1051,\n 1052,\n 1053,\n 1054,\n 1055,\n 1056,\n 1057,\n 1058,\n 1059,\n 1060,\n 1061,\n 1062,\n 1063,\n 1064,\n 1065,\n 1066,\n 1067,\n 1068,\n 1069,\n 1070,\n 1071,\n 1072,\n 1073,\n 1074,\n 1075,\n 1076,\n 1077,\n 1078,\n 1079,\n 1080,\n 1081,\n 1082,\n 1083,\n 1084,\n 1085,\n 1086,\n 1087,\n 1088,\n 1089,\n 1090,\n 1091,\n 1092,\n 1093,\n 1094,\n 1095,\n 1096,\n 1097,\n 1098,\n 1099,\n 1100,\n 1101,\n 1102,\n 1103,\n 1104,\n 1105,\n 1106,\n 1107,\n 1108,\n 1109,\n 1110,\n 1111,\n 1112,\n 1113,\n 1114,\n 1115,\n 1116,\n 1117,\n 1118,\n 1119,\n 1120,\n 1121,\n 1122,\n 1123,\n 1124,\n 1125,\n 1126,\n 1127,\n 1128,\n 1129,\n 1130,\n 1131,\n 1132,\n 1133,\n 1134,\n 1135,\n 1136,\n 1137,\n 1138,\n 1139,\n 1140,\n 1141,\n 1142,\n 1143,\n 1144,\n 1145,\n 1146,\n 1147]"
     },
     "execution_count": 16,
     "metadata": {},
     "output_type": "execute_result"
    }
   ],
   "source": [
    "\n",
    "getframedtonohanda(obs)"
   ],
   "metadata": {
    "collapsed": false,
    "pycharm": {
     "name": "#%%\n"
    }
   }
  },
  {
   "cell_type": "code",
   "execution_count": null,
   "outputs": [],
   "source": [],
   "metadata": {
    "collapsed": false,
    "pycharm": {
     "name": "#%%\n"
    }
   }
  }
 ],
 "metadata": {
  "kernelspec": {
   "display_name": "Python 3",
   "language": "python",
   "name": "python3"
  },
  "language_info": {
   "codemirror_mode": {
    "name": "ipython",
    "version": 2
   },
   "file_extension": ".py",
   "mimetype": "text/x-python",
   "name": "python",
   "nbconvert_exporter": "python",
   "pygments_lexer": "ipython2",
   "version": "2.7.6"
  }
 },
 "nbformat": 4,
 "nbformat_minor": 0
}
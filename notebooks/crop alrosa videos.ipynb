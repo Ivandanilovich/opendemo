{
 "cells": [
  {
   "cell_type": "code",
   "execution_count": 12,
   "metadata": {
    "collapsed": true
   },
   "outputs": [],
   "source": [
    "import cv2\n",
    "import matplotlib.pyplot as plt"
   ]
  },
  {
   "cell_type": "code",
   "execution_count": 13,
   "outputs": [],
   "source": [
    "path = 'D:/linux_share/Alrosa/newdata/'"
   ],
   "metadata": {
    "collapsed": false,
    "pycharm": {
     "name": "#%%\n"
    }
   }
  },
  {
   "cell_type": "code",
   "execution_count": 18,
   "outputs": [],
   "source": [
    "vidcap = cv2.VideoCapture(path + 'alr_video3.mp4')\n",
    "success, image = vidcap.read()\n",
    "count = 0\n",
    "frames=[]\n",
    "while success:\n",
    "    # cv2.imwrite(\"{}/{}.jpg\".format(path, count), image)\n",
    "    frames.append(\n",
    "        image[300:900, 500:1100]\n",
    "    )\n",
    "    success, image = vidcap.read()\n",
    "    count += 1\n",
    "    # break"
   ],
   "metadata": {
    "collapsed": false,
    "pycharm": {
     "name": "#%%\n"
    }
   }
  },
  {
   "cell_type": "code",
   "execution_count": 9,
   "outputs": [],
   "source": [
    "# plt.imsave('image.jpg', image)"
   ],
   "metadata": {
    "collapsed": false,
    "pycharm": {
     "name": "#%%\n"
    }
   }
  },
  {
   "cell_type": "code",
   "execution_count": 19,
   "outputs": [],
   "source": [
    "out = cv2.VideoWriter(path+'alr_video3_cropped.mp4',\n",
    "                          cv2.VideoWriter_fourcc(*'mp4v'),\n",
    "                          30,\n",
    "                          (600,600))\n",
    "cv2.VideoWriter()\n",
    "for ind in range(len(frames)):\n",
    "    out.write(frames[ind])\n",
    "out.release()"
   ],
   "metadata": {
    "collapsed": false,
    "pycharm": {
     "name": "#%%\n"
    }
   }
  },
  {
   "cell_type": "code",
   "execution_count": null,
   "outputs": [],
   "source": [],
   "metadata": {
    "collapsed": false,
    "pycharm": {
     "name": "#%%\n"
    }
   }
  }
 ],
 "metadata": {
  "kernelspec": {
   "display_name": "Python 3",
   "language": "python",
   "name": "python3"
  },
  "language_info": {
   "codemirror_mode": {
    "name": "ipython",
    "version": 2
   },
   "file_extension": ".py",
   "mimetype": "text/x-python",
   "name": "python",
   "nbconvert_exporter": "python",
   "pygments_lexer": "ipython2",
   "version": "2.7.6"
  }
 },
 "nbformat": 4,
 "nbformat_minor": 0
}
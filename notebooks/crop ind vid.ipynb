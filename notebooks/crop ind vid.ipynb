{
 "cells": [
  {
   "cell_type": "code",
   "execution_count": 6,
   "outputs": [],
   "source": [
    "import cv2\n",
    "import matplotlib.pyplot as plt\n",
    "import tensorflow as tf"
   ],
   "metadata": {
    "collapsed": false,
    "pycharm": {
     "name": "#%%\n"
    }
   }
  },
  {
   "cell_type": "code",
   "execution_count": 7,
   "outputs": [
    {
     "data": {
      "text/plain": "['D:\\\\linux_share\\\\Alrosa\\\\selected\\\\source\\\\ind_2_GH060009.MP4',\n 'D:\\\\linux_share\\\\Alrosa\\\\selected\\\\source\\\\ind_2_GH290009.MP4',\n 'D:\\\\linux_share\\\\Alrosa\\\\selected\\\\source\\\\ind_3_GH140007.MP4',\n 'D:\\\\linux_share\\\\Alrosa\\\\selected\\\\source\\\\ind_3_GH290007.MP4',\n 'D:\\\\linux_share\\\\Alrosa\\\\selected\\\\source\\\\ind_4_GH110005_0.MP4',\n 'D:\\\\linux_share\\\\Alrosa\\\\selected\\\\source\\\\ind_4_GH110005_1.MP4',\n 'D:\\\\linux_share\\\\Alrosa\\\\selected\\\\source\\\\ind_4_GH140005.MP4']"
     },
     "execution_count": 7,
     "metadata": {},
     "output_type": "execute_result"
    }
   ],
   "source": [
    "path = 'D:/linux_share/Alrosa/selected/source/'\n",
    "files = tf.io.gfile.glob(path+'ind*')\n",
    "files"
   ],
   "metadata": {
    "collapsed": false,
    "pycharm": {
     "name": "#%%\n"
    }
   }
  },
  {
   "cell_type": "code",
   "execution_count": 8,
   "outputs": [],
   "source": [
    "for file in files:\n",
    "    vidcap = cv2.VideoCapture(file)\n",
    "    success, image = vidcap.read()\n",
    "    count = 0\n",
    "    frames=[]\n",
    "    newname = file.split('\\\\')[-1].split('.')[0]+'cropped'+'.mp4'\n",
    "    # print(newname)\n",
    "    # 0/0\n",
    "    while success:\n",
    "        frames.append(\n",
    "            image[:, 420:1920-420]\n",
    "        )\n",
    "        # print(frames[0].shape)\n",
    "        success, image = vidcap.read()\n",
    "        count += 1\n",
    "\n",
    "    out = cv2.VideoWriter(path+newname,\n",
    "                          cv2.VideoWriter_fourcc(*'mp4v'),\n",
    "                          30,\n",
    "                          (1080,1080))\n",
    "    cv2.VideoWriter()\n",
    "    for ind in range(len(frames)):\n",
    "        out.write(frames[ind])\n",
    "    out.release()\n",
    "    # break"
   ],
   "metadata": {
    "collapsed": false,
    "pycharm": {
     "name": "#%%\n"
    }
   }
  },
  {
   "cell_type": "code",
   "execution_count": null,
   "outputs": [],
   "source": [
    "# plt.imsave('image.jpg', image)"
   ],
   "metadata": {
    "collapsed": false,
    "pycharm": {
     "name": "#%%\n"
    }
   }
  },
  {
   "cell_type": "code",
   "execution_count": null,
   "outputs": [],
   "source": [],
   "metadata": {
    "collapsed": false,
    "pycharm": {
     "name": "#%%\n"
    }
   }
  },
  {
   "cell_type": "code",
   "execution_count": null,
   "metadata": {
    "collapsed": true
   },
   "outputs": [],
   "source": []
  }
 ],
 "metadata": {
  "kernelspec": {
   "display_name": "Python 3",
   "language": "python",
   "name": "python3"
  },
  "language_info": {
   "codemirror_mode": {
    "name": "ipython",
    "version": 2
   },
   "file_extension": ".py",
   "mimetype": "text/x-python",
   "name": "python",
   "nbconvert_exporter": "python",
   "pygments_lexer": "ipython2",
   "version": "2.7.6"
  }
 },
 "nbformat": 4,
 "nbformat_minor": 0
}